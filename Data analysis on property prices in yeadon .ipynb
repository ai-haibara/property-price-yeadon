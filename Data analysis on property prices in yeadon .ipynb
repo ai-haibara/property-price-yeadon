{
 "cells": [
  {
   "cell_type": "code",
   "execution_count": 1,
   "metadata": {},
   "outputs": [],
   "source": [
    "#import needed librairies\n",
    "import numpy as np\n",
    "import pandas as pd\n",
    "import seaborn as sns\n",
    "import matplotlib.pyplot as plt\n",
    "from mpl_toolkits import mplot3d\n",
    "from mpl_toolkits.mplot3d import Axes3D\n",
    "\n",
    "#load the dataset\n",
    "house_data = pd.read_excel('Property_yeadon_data.xlsx')"
   ]
  },
  {
   "cell_type": "code",
   "execution_count": 2,
   "metadata": {},
   "outputs": [
    {
     "data": {
      "text/plain": [
       "(420, 9)"
      ]
     },
     "execution_count": 2,
     "metadata": {},
     "output_type": "execute_result"
    }
   ],
   "source": [
    "#have a glance at the data\n",
    "house_data.shape"
   ]
  },
  {
   "cell_type": "code",
   "execution_count": 3,
   "metadata": {},
   "outputs": [
    {
     "data": {
      "text/html": [
       "<div>\n",
       "<style scoped>\n",
       "    .dataframe tbody tr th:only-of-type {\n",
       "        vertical-align: middle;\n",
       "    }\n",
       "\n",
       "    .dataframe tbody tr th {\n",
       "        vertical-align: top;\n",
       "    }\n",
       "\n",
       "    .dataframe thead th {\n",
       "        text-align: right;\n",
       "    }\n",
       "</style>\n",
       "<table border=\"1\" class=\"dataframe\">\n",
       "  <thead>\n",
       "    <tr style=\"text-align: right;\">\n",
       "      <th></th>\n",
       "      <th>Date of purchase</th>\n",
       "      <th>Postcode</th>\n",
       "      <th>Address street number</th>\n",
       "      <th>Address street name</th>\n",
       "      <th>Locality</th>\n",
       "      <th>City</th>\n",
       "      <th>Floor area in square metres</th>\n",
       "      <th>Price the property sold for</th>\n",
       "      <th>Price per square metre</th>\n",
       "    </tr>\n",
       "  </thead>\n",
       "  <tbody>\n",
       "    <tr>\n",
       "      <th>0</th>\n",
       "      <td>2022-04-08</td>\n",
       "      <td>LS19 6AB</td>\n",
       "      <td>ST ELMO</td>\n",
       "      <td>BAYTON LANE</td>\n",
       "      <td>YEADON</td>\n",
       "      <td>LEEDS</td>\n",
       "      <td>65</td>\n",
       "      <td>252500</td>\n",
       "      <td>3884.615385</td>\n",
       "    </tr>\n",
       "    <tr>\n",
       "      <th>1</th>\n",
       "      <td>2022-07-05</td>\n",
       "      <td>LS19 6AD</td>\n",
       "      <td>5</td>\n",
       "      <td>MOORLANDS AVENUE</td>\n",
       "      <td>YEADON</td>\n",
       "      <td>LEEDS</td>\n",
       "      <td>85</td>\n",
       "      <td>297310</td>\n",
       "      <td>3497.764706</td>\n",
       "    </tr>\n",
       "    <tr>\n",
       "      <th>2</th>\n",
       "      <td>2023-06-30</td>\n",
       "      <td>LS19 6AG</td>\n",
       "      <td>11</td>\n",
       "      <td>MOORFIELD CROFT</td>\n",
       "      <td>YEADON</td>\n",
       "      <td>LEEDS</td>\n",
       "      <td>90</td>\n",
       "      <td>320000</td>\n",
       "      <td>3555.555556</td>\n",
       "    </tr>\n",
       "    <tr>\n",
       "      <th>3</th>\n",
       "      <td>2023-05-24</td>\n",
       "      <td>LS19 6AG</td>\n",
       "      <td>12</td>\n",
       "      <td>MOORFIELD CROFT</td>\n",
       "      <td>YEADON</td>\n",
       "      <td>LEEDS</td>\n",
       "      <td>70</td>\n",
       "      <td>270000</td>\n",
       "      <td>3857.142857</td>\n",
       "    </tr>\n",
       "    <tr>\n",
       "      <th>4</th>\n",
       "      <td>2022-08-02</td>\n",
       "      <td>LS19 6AG</td>\n",
       "      <td>17</td>\n",
       "      <td>MOORFIELD CROFT</td>\n",
       "      <td>YEADON</td>\n",
       "      <td>LEEDS</td>\n",
       "      <td>99</td>\n",
       "      <td>365000</td>\n",
       "      <td>3686.868687</td>\n",
       "    </tr>\n",
       "    <tr>\n",
       "      <th>5</th>\n",
       "      <td>2022-04-01</td>\n",
       "      <td>LS19 6AH</td>\n",
       "      <td>ROSEMOUNT HOUSE, 126</td>\n",
       "      <td>HARROGATE ROAD</td>\n",
       "      <td>YEADON</td>\n",
       "      <td>LEEDS</td>\n",
       "      <td>110</td>\n",
       "      <td>343000</td>\n",
       "      <td>3118.181818</td>\n",
       "    </tr>\n",
       "    <tr>\n",
       "      <th>6</th>\n",
       "      <td>2022-07-19</td>\n",
       "      <td>LS19 6AH</td>\n",
       "      <td>144</td>\n",
       "      <td>HARROGATE ROAD</td>\n",
       "      <td>YEADON</td>\n",
       "      <td>LEEDS</td>\n",
       "      <td>102</td>\n",
       "      <td>335000</td>\n",
       "      <td>3284.313725</td>\n",
       "    </tr>\n",
       "    <tr>\n",
       "      <th>7</th>\n",
       "      <td>2022-03-07</td>\n",
       "      <td>LS19 6AN</td>\n",
       "      <td>11</td>\n",
       "      <td>BENTON PARK DRIVE</td>\n",
       "      <td>RAWDON</td>\n",
       "      <td>LEEDS</td>\n",
       "      <td>83</td>\n",
       "      <td>325000</td>\n",
       "      <td>3915.662651</td>\n",
       "    </tr>\n",
       "    <tr>\n",
       "      <th>8</th>\n",
       "      <td>2022-10-28</td>\n",
       "      <td>LS19 6AN</td>\n",
       "      <td>23</td>\n",
       "      <td>BENTON PARK DRIVE</td>\n",
       "      <td>RAWDON</td>\n",
       "      <td>LEEDS</td>\n",
       "      <td>89</td>\n",
       "      <td>323500</td>\n",
       "      <td>3634.831461</td>\n",
       "    </tr>\n",
       "    <tr>\n",
       "      <th>9</th>\n",
       "      <td>2022-04-29</td>\n",
       "      <td>LS19 6AN</td>\n",
       "      <td>39</td>\n",
       "      <td>BENTON PARK DRIVE</td>\n",
       "      <td>RAWDON</td>\n",
       "      <td>LEEDS</td>\n",
       "      <td>70</td>\n",
       "      <td>228500</td>\n",
       "      <td>3264.285714</td>\n",
       "    </tr>\n",
       "  </tbody>\n",
       "</table>\n",
       "</div>"
      ],
      "text/plain": [
       "  Date of purchase  Postcode Address street number Address street name  \\\n",
       "0       2022-04-08  LS19 6AB               ST ELMO         BAYTON LANE   \n",
       "1       2022-07-05  LS19 6AD                     5    MOORLANDS AVENUE   \n",
       "2       2023-06-30  LS19 6AG                    11     MOORFIELD CROFT   \n",
       "3       2023-05-24  LS19 6AG                    12     MOORFIELD CROFT   \n",
       "4       2022-08-02  LS19 6AG                    17     MOORFIELD CROFT   \n",
       "5       2022-04-01  LS19 6AH  ROSEMOUNT HOUSE, 126      HARROGATE ROAD   \n",
       "6       2022-07-19  LS19 6AH                   144      HARROGATE ROAD   \n",
       "7       2022-03-07  LS19 6AN                    11   BENTON PARK DRIVE   \n",
       "8       2022-10-28  LS19 6AN                    23   BENTON PARK DRIVE   \n",
       "9       2022-04-29  LS19 6AN                    39   BENTON PARK DRIVE   \n",
       "\n",
       "  Locality   City  Floor area in square metres  Price the property sold for  \\\n",
       "0   YEADON  LEEDS                           65                       252500   \n",
       "1   YEADON  LEEDS                           85                       297310   \n",
       "2   YEADON  LEEDS                           90                       320000   \n",
       "3   YEADON  LEEDS                           70                       270000   \n",
       "4   YEADON  LEEDS                           99                       365000   \n",
       "5   YEADON  LEEDS                          110                       343000   \n",
       "6   YEADON  LEEDS                          102                       335000   \n",
       "7   RAWDON  LEEDS                           83                       325000   \n",
       "8   RAWDON  LEEDS                           89                       323500   \n",
       "9   RAWDON  LEEDS                           70                       228500   \n",
       "\n",
       "   Price per square metre  \n",
       "0             3884.615385  \n",
       "1             3497.764706  \n",
       "2             3555.555556  \n",
       "3             3857.142857  \n",
       "4             3686.868687  \n",
       "5             3118.181818  \n",
       "6             3284.313725  \n",
       "7             3915.662651  \n",
       "8             3634.831461  \n",
       "9             3264.285714  "
      ]
     },
     "execution_count": 3,
     "metadata": {},
     "output_type": "execute_result"
    }
   ],
   "source": [
    "house_data[:10]"
   ]
  },
  {
   "cell_type": "code",
   "execution_count": 4,
   "metadata": {},
   "outputs": [
    {
     "data": {
      "text/plain": [
       "Date of purchase               0\n",
       "Postcode                       0\n",
       "Address street number          0\n",
       "Address street name            1\n",
       "Locality                       1\n",
       "City                           0\n",
       "Floor area in square metres    0\n",
       "Price the property sold for    0\n",
       "Price per square metre         0\n",
       "dtype: int64"
      ]
     },
     "execution_count": 4,
     "metadata": {},
     "output_type": "execute_result"
    }
   ],
   "source": [
    "#checking for any anomalies in the data \n",
    "house_data.isnull().sum()"
   ]
  },
  {
   "cell_type": "raw",
   "metadata": {},
   "source": [
    "There is no anomalies with prices and surfaces which is what we are interested in"
   ]
  },
  {
   "cell_type": "code",
   "execution_count": 5,
   "metadata": {},
   "outputs": [
    {
     "data": {
      "image/png": "[encoded data removed]",
      "text/plain": [
       "<Figure size 432x288 with 1 Axes>"
      ]
     },
     "metadata": {
      "needs_background": "light"
     },
     "output_type": "display_data"
    }
   ],
   "source": [
    "#Display the data looking specifically at prices and surfaces\n",
    "plt.plot(house_data['Floor area in square metres'], house_data['Price the property sold for'], 'bo', markersize=4)\n",
    "plt.show()"
   ]
  },
  {
   "cell_type": "code",
   "execution_count": 6,
   "metadata": {},
   "outputs": [
    {
     "data": {
      "image/png": "[encoded data removed]",
      "text/plain": [
       "<Figure size 432x288 with 1 Axes>"
      ]
     },
     "metadata": {
      "needs_background": "light"
     },
     "output_type": "display_data"
    }
   ],
   "source": [
    "#Boxplot visualisation of the property prices\n",
    "plt.boxplot(house_data['Price the property sold for'])\n",
    "plt.show()"
   ]
  },
  {
   "cell_type": "code",
   "execution_count": 7,
   "metadata": {},
   "outputs": [
    {
     "data": {
      "image/png": "[encoded data removed]",
      "text/plain": [
       "<Figure size 432x288 with 1 Axes>"
      ]
     },
     "metadata": {
      "needs_background": "light"
     },
     "output_type": "display_data"
    }
   ],
   "source": [
    "#Boxplot visualisation of the property prices\n",
    "plt.boxplot(house_data['Floor area in square metres'])\n",
    "plt.show()"
   ]
  },
  {
   "cell_type": "code",
   "execution_count": 8,
   "metadata": {},
   "outputs": [
    {
     "data": {
      "text/html": [
       "<div>\n",
       "<style scoped>\n",
       "    .dataframe tbody tr th:only-of-type {\n",
       "        vertical-align: middle;\n",
       "    }\n",
       "\n",
       "    .dataframe tbody tr th {\n",
       "        vertical-align: top;\n",
       "    }\n",
       "\n",
       "    .dataframe thead th {\n",
       "        text-align: right;\n",
       "    }\n",
       "</style>\n",
       "<table border=\"1\" class=\"dataframe\">\n",
       "  <thead>\n",
       "    <tr style=\"text-align: right;\">\n",
       "      <th></th>\n",
       "      <th>Floor area in square metres</th>\n",
       "      <th>Price the property sold for</th>\n",
       "      <th>Price per square metre</th>\n",
       "    </tr>\n",
       "  </thead>\n",
       "  <tbody>\n",
       "    <tr>\n",
       "      <th>count</th>\n",
       "      <td>420.000000</td>\n",
       "      <td>4.200000e+02</td>\n",
       "      <td>420.000000</td>\n",
       "    </tr>\n",
       "    <tr>\n",
       "      <th>mean</th>\n",
       "      <td>92.902381</td>\n",
       "      <td>2.970445e+05</td>\n",
       "      <td>3252.398294</td>\n",
       "    </tr>\n",
       "    <tr>\n",
       "      <th>std</th>\n",
       "      <td>40.513087</td>\n",
       "      <td>1.427241e+05</td>\n",
       "      <td>780.540405</td>\n",
       "    </tr>\n",
       "    <tr>\n",
       "      <th>min</th>\n",
       "      <td>39.000000</td>\n",
       "      <td>8.500000e+04</td>\n",
       "      <td>1164.383562</td>\n",
       "    </tr>\n",
       "    <tr>\n",
       "      <th>25%</th>\n",
       "      <td>69.000000</td>\n",
       "      <td>2.200000e+05</td>\n",
       "      <td>2738.871636</td>\n",
       "    </tr>\n",
       "    <tr>\n",
       "      <th>50%</th>\n",
       "      <td>82.000000</td>\n",
       "      <td>2.600000e+05</td>\n",
       "      <td>3155.666416</td>\n",
       "    </tr>\n",
       "    <tr>\n",
       "      <th>75%</th>\n",
       "      <td>104.000000</td>\n",
       "      <td>3.250000e+05</td>\n",
       "      <td>3707.264957</td>\n",
       "    </tr>\n",
       "    <tr>\n",
       "      <th>max</th>\n",
       "      <td>390.000000</td>\n",
       "      <td>1.425000e+06</td>\n",
       "      <td>6349.206349</td>\n",
       "    </tr>\n",
       "  </tbody>\n",
       "</table>\n",
       "</div>"
      ],
      "text/plain": [
       "       Floor area in square metres  Price the property sold for  \\\n",
       "count                   420.000000                 4.200000e+02   \n",
       "mean                     92.902381                 2.970445e+05   \n",
       "std                      40.513087                 1.427241e+05   \n",
       "min                      39.000000                 8.500000e+04   \n",
       "25%                      69.000000                 2.200000e+05   \n",
       "50%                      82.000000                 2.600000e+05   \n",
       "75%                     104.000000                 3.250000e+05   \n",
       "max                     390.000000                 1.425000e+06   \n",
       "\n",
       "       Price per square metre  \n",
       "count              420.000000  \n",
       "mean              3252.398294  \n",
       "std                780.540405  \n",
       "min               1164.383562  \n",
       "25%               2738.871636  \n",
       "50%               3155.666416  \n",
       "75%               3707.264957  \n",
       "max               6349.206349  "
      ]
     },
     "execution_count": 8,
     "metadata": {},
     "output_type": "execute_result"
    }
   ],
   "source": [
    "#Overview of the data\n",
    "house_data.describe()"
   ]
  },
  {
   "cell_type": "markdown",
   "metadata": {},
   "source": [
    "Looking at the data, the average square metre price for Yeadon seems to be 3253£ for the period between January 2022 and October 2023.\n",
    "\n",
    "There seem to be a lot of outliers in our dataset. We would need more data to check on it."
   ]
  },
  {
   "cell_type": "code",
   "execution_count": null,
   "metadata": {},
   "outputs": [],
   "source": []
  },
  {
   "cell_type": "raw",
   "metadata": {},
   "source": [
    "# create histogram with density curve overlaid\n",
    "sns.displot(house_data['Price the property sold for'], kde=True, bins=15)"
   ]
  },
  {
   "cell_type": "code",
   "execution_count": 9,
   "metadata": {},
   "outputs": [
    {
     "data": {
      "text/plain": [
       "<seaborn.axisgrid.FacetGrid at 0x7fe230910220>"
      ]
     },
     "execution_count": 9,
     "metadata": {},
     "output_type": "execute_result"
    },
    {
     "data": {
      "image/png": "[encoded data removed]",
      "text/plain": [
       "<Figure size 360x360 with 1 Axes>"
      ]
     },
     "metadata": {
      "needs_background": "light"
     },
     "output_type": "display_data"
    }
   ],
   "source": [
    "#create histogram with density curve overlaid\n",
    "sns.displot(house_data['Floor area in square metres'], kde=True, bins=15)"
   ]
  },
  {
   "cell_type": "markdown",
   "metadata": {},
   "source": [
    "# Observations"
   ]
  },
  {
   "cell_type": "markdown",
   "metadata": {},
   "source": [
    "The average property price seems to be just under 300 000£ (297 045£ according to the data). The average size house is about 92 square metres. "
   ]
  },
  {
   "cell_type": "markdown",
   "metadata": {},
   "source": [
    "# Linear regression\n",
    "\n",
    "Based on our current dataset, which is small, let's try to do a linear regression to predict the property price for next year. We will probably need to get more data to verify it."
   ]
  },
  {
   "cell_type": "code",
   "execution_count": 10,
   "metadata": {},
   "outputs": [],
   "source": [
    "# We use one variables to explain the price tendency, the floor area of the property.\n",
    "X = pd.DataFrame(np.c_[house_data['Floor area in square metres']], columns = ['surface'])\n",
    "Y = pd.DataFrame(np.c_[house_data['Price the property sold for']], columns = ['price'])"
   ]
  },
  {
   "cell_type": "code",
   "execution_count": 11,
   "metadata": {},
   "outputs": [
    {
     "data": {
      "text/html": [
       "<div>\n",
       "<style scoped>\n",
       "    .dataframe tbody tr th:only-of-type {\n",
       "        vertical-align: middle;\n",
       "    }\n",
       "\n",
       "    .dataframe tbody tr th {\n",
       "        vertical-align: top;\n",
       "    }\n",
       "\n",
       "    .dataframe thead th {\n",
       "        text-align: right;\n",
       "    }\n",
       "</style>\n",
       "<table border=\"1\" class=\"dataframe\">\n",
       "  <thead>\n",
       "    <tr style=\"text-align: right;\">\n",
       "      <th></th>\n",
       "      <th>surface</th>\n",
       "    </tr>\n",
       "  </thead>\n",
       "  <tbody>\n",
       "    <tr>\n",
       "      <th>0</th>\n",
       "      <td>65</td>\n",
       "    </tr>\n",
       "  </tbody>\n",
       "</table>\n",
       "</div>"
      ],
      "text/plain": [
       "   surface\n",
       "0       65"
      ]
     },
     "execution_count": 11,
     "metadata": {},
     "output_type": "execute_result"
    }
   ],
   "source": [
    "X[:1]"
   ]
  },
  {
   "cell_type": "code",
   "execution_count": 12,
   "metadata": {},
   "outputs": [
    {
     "data": {
      "text/html": [
       "<div>\n",
       "<style scoped>\n",
       "    .dataframe tbody tr th:only-of-type {\n",
       "        vertical-align: middle;\n",
       "    }\n",
       "\n",
       "    .dataframe tbody tr th {\n",
       "        vertical-align: top;\n",
       "    }\n",
       "\n",
       "    .dataframe thead th {\n",
       "        text-align: right;\n",
       "    }\n",
       "</style>\n",
       "<table border=\"1\" class=\"dataframe\">\n",
       "  <thead>\n",
       "    <tr style=\"text-align: right;\">\n",
       "      <th></th>\n",
       "      <th>price</th>\n",
       "    </tr>\n",
       "  </thead>\n",
       "  <tbody>\n",
       "    <tr>\n",
       "      <th>0</th>\n",
       "      <td>252500</td>\n",
       "    </tr>\n",
       "  </tbody>\n",
       "</table>\n",
       "</div>"
      ],
      "text/plain": [
       "    price\n",
       "0  252500"
      ]
     },
     "execution_count": 12,
     "metadata": {},
     "output_type": "execute_result"
    }
   ],
   "source": [
    "Y[:1]"
   ]
  },
  {
   "cell_type": "code",
   "execution_count": 13,
   "metadata": {},
   "outputs": [
    {
     "data": {
      "text/plain": [
       "(420, 1)"
      ]
     },
     "execution_count": 13,
     "metadata": {},
     "output_type": "execute_result"
    }
   ],
   "source": [
    "X.shape"
   ]
  },
  {
   "cell_type": "code",
   "execution_count": 14,
   "metadata": {},
   "outputs": [
    {
     "data": {
      "text/plain": [
       "(420, 1)"
      ]
     },
     "execution_count": 14,
     "metadata": {},
     "output_type": "execute_result"
    }
   ],
   "source": [
    "Y.shape"
   ]
  },
  {
   "cell_type": "code",
   "execution_count": 15,
   "metadata": {},
   "outputs": [
    {
     "name": "stdout",
     "output_type": "stream",
     "text": [
      "(336, 1)\n",
      "(84, 1)\n",
      "(336, 1)\n",
      "(84, 1)\n"
     ]
    }
   ],
   "source": [
    "#training and testing set\n",
    "from sklearn.model_selection import train_test_split\n",
    "\n",
    "X_train, X_test, Y_train, Y_test = train_test_split(X,Y, test_size=0.2)\n",
    "print(X_train.shape)\n",
    "print(X_test.shape)\n",
    "print(Y_train.shape)\n",
    "print(Y_test.shape)"
   ]
  },
  {
   "cell_type": "code",
   "execution_count": 16,
   "metadata": {},
   "outputs": [
    {
     "data": {
      "text/html": [
       "<style>#sk-container-id-1 {color: black;}#sk-container-id-1 pre{padding: 0;}#sk-container-id-1 div.sk-toggleable {background-color: white;}#sk-container-id-1 label.sk-toggleable__label {cursor: pointer;display: block;width: 100%;margin-bottom: 0;padding: 0.3em;box-sizing: border-box;text-align: center;}#sk-container-id-1 label.sk-toggleable__label-arrow:before {content: \"▸\";float: left;margin-right: 0.25em;color: #696969;}#sk-container-id-1 label.sk-toggleable__label-arrow:hover:before {color: black;}#sk-container-id-1 div.sk-estimator:hover label.sk-toggleable__label-arrow:before {color: black;}#sk-container-id-1 div.sk-toggleable__content {max-height: 0;max-width: 0;overflow: hidden;text-align: left;background-color: #f0f8ff;}#sk-container-id-1 div.sk-toggleable__content pre {margin: 0.2em;color: black;border-radius: 0.25em;background-color: #f0f8ff;}#sk-container-id-1 input.sk-toggleable__control:checked~div.sk-toggleable__content {max-height: 200px;max-width: 100%;overflow: auto;}#sk-container-id-1 input.sk-toggleable__control:checked~label.sk-toggleable__label-arrow:before {content: \"▾\";}#sk-container-id-1 div.sk-estimator input.sk-toggleable__control:checked~label.sk-toggleable__label {background-color: #d4ebff;}#sk-container-id-1 div.sk-label input.sk-toggleable__control:checked~label.sk-toggleable__label {background-color: #d4ebff;}#sk-container-id-1 input.sk-hidden--visually {border: 0;clip: rect(1px 1px 1px 1px);clip: rect(1px, 1px, 1px, 1px);height: 1px;margin: -1px;overflow: hidden;padding: 0;position: absolute;width: 1px;}#sk-container-id-1 div.sk-estimator {font-family: monospace;background-color: #f0f8ff;border: 1px dotted black;border-radius: 0.25em;box-sizing: border-box;margin-bottom: 0.5em;}#sk-container-id-1 div.sk-estimator:hover {background-color: #d4ebff;}#sk-container-id-1 div.sk-parallel-item::after {content: \"\";width: 100%;border-bottom: 1px solid gray;flex-grow: 1;}#sk-container-id-1 div.sk-label:hover label.sk-toggleable__label {background-color: #d4ebff;}#sk-container-id-1 div.sk-serial::before {content: \"\";position: absolute;border-left: 1px solid gray;box-sizing: border-box;top: 0;bottom: 0;left: 50%;z-index: 0;}#sk-container-id-1 div.sk-serial {display: flex;flex-direction: column;align-items: center;background-color: white;padding-right: 0.2em;padding-left: 0.2em;position: relative;}#sk-container-id-1 div.sk-item {position: relative;z-index: 1;}#sk-container-id-1 div.sk-parallel {display: flex;align-items: stretch;justify-content: center;background-color: white;position: relative;}#sk-container-id-1 div.sk-item::before, #sk-container-id-1 div.sk-parallel-item::before {content: \"\";position: absolute;border-left: 1px solid gray;box-sizing: border-box;top: 0;bottom: 0;left: 50%;z-index: -1;}#sk-container-id-1 div.sk-parallel-item {display: flex;flex-direction: column;z-index: 1;position: relative;background-color: white;}#sk-container-id-1 div.sk-parallel-item:first-child::after {align-self: flex-end;width: 50%;}#sk-container-id-1 div.sk-parallel-item:last-child::after {align-self: flex-start;width: 50%;}#sk-container-id-1 div.sk-parallel-item:only-child::after {width: 0;}#sk-container-id-1 div.sk-dashed-wrapped {border: 1px dashed gray;margin: 0 0.4em 0.5em 0.4em;box-sizing: border-box;padding-bottom: 0.4em;background-color: white;}#sk-container-id-1 div.sk-label label {font-family: monospace;font-weight: bold;display: inline-block;line-height: 1.2em;}#sk-container-id-1 div.sk-label-container {text-align: center;}#sk-container-id-1 div.sk-container {/* jupyter's `normalize.less` sets `[hidden] { display: none; }` but bootstrap.min.css set `[hidden] { display: none !important; }` so we also need the `!important` here to be able to override the default hidden behavior on the sphinx rendered scikit-learn.org. See: https://github.com/scikit-learn/scikit-learn/issues/21755 */display: inline-block !important;position: relative;}#sk-container-id-1 div.sk-text-repr-fallback {display: none;}</style><div id=\"sk-container-id-1\" class=\"sk-top-container\"><div class=\"sk-text-repr-fallback\"><pre>LinearRegression()</pre><b>In a Jupyter environment, please rerun this cell to show the HTML representation or trust the notebook. <br />On GitHub, the HTML representation is unable to render, please try loading this page with nbviewer.org.</b></div><div class=\"sk-container\" hidden><div class=\"sk-item\"><div class=\"sk-estimator sk-toggleable\"><input class=\"sk-toggleable__control sk-hidden--visually\" id=\"sk-estimator-id-1\" type=\"checkbox\" checked><label for=\"sk-estimator-id-1\" class=\"sk-toggleable__label sk-toggleable__label-arrow\">LinearRegression</label><div class=\"sk-toggleable__content\"><pre>LinearRegression()</pre></div></div></div></div></div>"
      ],
      "text/plain": [
       "LinearRegression()"
      ]
     },
     "execution_count": 16,
     "metadata": {},
     "output_type": "execute_result"
    }
   ],
   "source": [
    "#fitting the model\n",
    "from sklearn.linear_model import LinearRegression\n",
    "from sklearn.metrics import mean_squared_error\n",
    "\n",
    "linear_model = LinearRegression()\n",
    "linear_model.fit(X_train, Y_train)"
   ]
  },
  {
   "cell_type": "code",
   "execution_count": 17,
   "metadata": {},
   "outputs": [
    {
     "name": "stdout",
     "output_type": "stream",
     "text": [
      "The performance of the prediction model\n",
      "The Root Mean Square Error is 74998.22431970057\n",
      "The R2 score is 0.6866979975301188\n"
     ]
    }
   ],
   "source": [
    "#Evaluation of the training set\n",
    "from sklearn.metrics import r2_score\n",
    "y_train_predict = linear_model.predict(X_train)\n",
    "rmse = (np.sqrt(mean_squared_error(Y_train,y_train_predict)))\n",
    "r2 = r2_score(Y_train, y_train_predict)\n",
    "\n",
    "print('The performance of the prediction model')\n",
    "print('The Root Mean Square Error is {}'.format(rmse))\n",
    "print('The R2 score is {}'.format(r2))"
   ]
  },
  {
   "cell_type": "code",
   "execution_count": 18,
   "metadata": {},
   "outputs": [
    {
     "name": "stdout",
     "output_type": "stream",
     "text": [
      "The performance of the prediction model\n",
      "The Root Mean Square Error is 96431.6573511723\n",
      "The R2 score is 0.67941619046665\n"
     ]
    }
   ],
   "source": [
    "#Evaluation of the testing set\n",
    "y_test_predict = linear_model.predict(X_test)\n",
    "rmse = (np.sqrt(mean_squared_error(Y_test, y_test_predict)))\n",
    "r2 = r2_score(Y_test, y_test_predict)\n",
    "\n",
    "print('The performance of the prediction model')\n",
    "print('The Root Mean Square Error is {}'.format(rmse))\n",
    "print('The R2 score is {}'.format(r2))"
   ]
  },
  {
   "cell_type": "code",
   "execution_count": 19,
   "metadata": {},
   "outputs": [],
   "source": [
    "#checking the result\n",
    "x_new = pd.DataFrame(np.c_[70], columns = ['surface'])\n",
    "y_new = linear_model.predict(x_new)"
   ]
  },
  {
   "cell_type": "code",
   "execution_count": 20,
   "metadata": {},
   "outputs": [
    {
     "data": {
      "text/plain": [
       "array([[229254.78383024]])"
      ]
     },
     "execution_count": 20,
     "metadata": {},
     "output_type": "execute_result"
    }
   ],
   "source": [
    "y_new"
   ]
  },
  {
   "cell_type": "code",
   "execution_count": 21,
   "metadata": {},
   "outputs": [
    {
     "data": {
      "image/png": "[encoded data removed]",
      "text/plain": [
       "<Figure size 432x288 with 1 Axes>"
      ]
     },
     "metadata": {
      "needs_background": "light"
     },
     "output_type": "display_data"
    }
   ],
   "source": [
    "#draw the linear regression\n",
    "plt.scatter(X, Y,color='g')\n",
    "plt.plot(X, linear_model.predict(X),color='k')\n",
    "\n",
    "plt.show()"
   ]
  },
  {
   "cell_type": "markdown",
   "metadata": {},
   "source": [
    "# Conclusion\n",
    "\n",
    "Our simple linear regression has a Pearson coefficient R2 of 0.67. It's not bad considering the small amount of data given, but it is clearly a simplification of the problem. \n",
    "\n",
    "We can conclude that if we were looking to buy in Yeadon an average size house of 92 square metres, it would cost approximately 290 000£. This means, we are above the stamp duty treshold (250 000£), unless the buyer is a first time buyer in the UK and the law doesn't change since then."
   ]
  },
  {
   "cell_type": "markdown",
   "metadata": {},
   "source": [
    "We can look at refining our model by getting more data, or getting more information on the properties. This would involve a lot more data scrapping, and finding a ay to refine getting the information automatically as adverts do not always mention all the attributes of a property, such as a garage, the number of bedrooms etc. This is because in the UK there is no standardisation into what is considered a bedroom (for example in France, it has to be a minimum of 9 metres square, otherwise it is just an office room), so it would be difficult to get a good dataset."
   ]
  },
  {
   "cell_type": "code",
   "execution_count": null,
   "metadata": {},
   "outputs": [],
   "source": []
  }
 ],
 "metadata": {
  "kernelspec": {
   "display_name": "Python 3",
   "language": "python",
   "name": "python3"
  },
  "language_info": {
   "codemirror_mode": {
    "name": "ipython",
    "version": 3
   },
   "file_extension": ".py",
   "mimetype": "text/x-python",
   "name": "python",
   "nbconvert_exporter": "python",
   "pygments_lexer": "ipython3",
   "version": "3.8.5"
  }
 },
 "nbformat": 4,
 "nbformat_minor": 4
}
